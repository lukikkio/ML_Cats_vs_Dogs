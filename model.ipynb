{
  "cells": [
    {
      "cell_type": "markdown",
      "metadata": {
        "id": "dbZlB_VIGW_7"
      },
      "source": [
        "### Per poter scaricare il dataset dobbiamo partire con questo comando\n",
        "## !pip install kaggle --upgrade"
      ]
    },
    {
      "cell_type": "code",
      "execution_count": null,
      "metadata": {
        "id": "2qNWgtqXGnU2"
      },
      "outputs": [],
      "source": [
        "# Per via di un bug di Colab, avviare la seconda cella (darà errore) e poi partire da qui e runnare la seconda di nuovo dopo questa e dovrebbe funzionare tutto\n",
        "!cp kaggle.json ~/.kaggle/"
      ]
    },
    {
      "cell_type": "code",
      "execution_count": null,
      "metadata": {
        "colab": {
          "base_uri": "https://localhost:8080/"
        },
        "id": "pmE9_HobGW_9",
        "outputId": "caf7899c-6b1c-46fc-da25-29abc518fa10"
      },
      "outputs": [],
      "source": [
        "# Facciamo il login tramite token su Kaggle dopo aver scaricato le API ed aver messo il file \"kaggle.json\" nel giusto percorso ( su windows \"C:\\\\Users\\\\{nomeutente}\\\\.kaggle\\\\\")\n",
        "\n",
        "from kaggle.api.kaggle_api_extended import KaggleApi\n",
        "api = KaggleApi()\n",
        "api.authenticate()"
      ]
    },
    {
      "cell_type": "code",
      "execution_count": null,
      "metadata": {
        "colab": {
          "base_uri": "https://localhost:8080/"
        },
        "id": "MdWey9TFGW_-",
        "outputId": "40ac954f-635f-4f41-efb8-0e66ee9a0fd7"
      },
      "outputs": [],
      "source": [
        "# scarichiamo il dataset\n",
        "\n",
        "!kaggle competitions download -c dogs-vs-cats"
      ]
    },
    {
      "cell_type": "code",
      "execution_count": null,
      "metadata": {
        "id": "CW5KWqzVGW_-"
      },
      "outputs": [],
      "source": [
        "# Import\n",
        "\n",
        "import os\n",
        "import cv2\n",
        "import pandas as pd\n",
        "import matplotlib.pyplot as plt\n",
        "import tensorflow as tf\n",
        "from tensorflow import keras\n",
        "from tensorflow.keras import layers\n",
        "\n"
      ]
    },
    {
      "cell_type": "code",
      "execution_count": null,
      "metadata": {
        "id": "0hsp8zIKGW_-"
      },
      "outputs": [],
      "source": [
        "# Spacchettiamo  il dataset dallo zip\n",
        "\n",
        "main = \"dogs-vs-cats.zip\"\n",
        "train = \"train.zip\"\n",
        "test = \"test1.zip\"\n",
        "cartella_principale = \"DOGvsCATS/\"\n",
        "files = \"dataset/\"\n",
        "\n",
        "import zipfile\n",
        "\n",
        "if os.path.isfile(train) and os.path.isfile(test) == True:\n",
        "    pass\n",
        "else:\n",
        "    with zipfile.ZipFile(main,\"r\") as zipp:\n",
        "        zipp.extractall()\n",
        "    if os.path.isdir(\"train\") and os.path.isdir(\"test1\") == True:\n",
        "        pass\n",
        "    else:\n",
        "        with zipfile.ZipFile(train, \"r\") as zipp:\n",
        "            zipp.extractall(files)\n",
        "\n",
        "        with zipfile.ZipFile(test, \"r\") as zipp:\n",
        "            zipp.extractall(files)"
      ]
    },
    {
      "cell_type": "code",
      "execution_count": null,
      "metadata": {
        "colab": {
          "base_uri": "https://localhost:8080/",
          "height": 423
        },
        "id": "Omq8iQo-GW__",
        "outputId": "5dcb26dd-1f18-4f9d-c702-7716ea776f5f"
      },
      "outputs": [],
      "source": [
        "# Creiamo un dataframe per poter modellare i dati\n",
        "\n",
        "dataset_train_path = \"dataset/train/\"\n",
        "\n",
        "nomefile = os.listdir(dataset_train_path)\n",
        "specie = [x.split(\".\")[0] for x in nomefile]\n",
        "\n",
        "dati = pd.DataFrame({\"Nome_File\": nomefile, \"Specie\":specie})\n",
        "\n",
        "#dati[\"Specie\"] = dati[\"Specie\"].replace([\"cat\",\"dog\"],[0,1])\n",
        "\n",
        "\n",
        "dati"
      ]
    },
    {
      "cell_type": "code",
      "execution_count": null,
      "metadata": {
        "colab": {
          "base_uri": "https://localhost:8080/"
        },
        "id": "LY-KYsQNGXAB",
        "outputId": "9726bcca-cc0f-4ccd-a15c-c6e95e044a5d"
      },
      "outputs": [],
      "source": [
        "\n",
        "train_path = \"working/train/\"\n",
        "test_path = \"working/test/\"\n",
        "\n",
        "# Separiamo le immagini per cani e gatti\n",
        "from os import makedirs, listdir\n",
        "from random import random\n",
        "from shutil import copyfile\n",
        "\n",
        "cartel= [train_path, test_path]\n",
        "# Creazione sottocartelle\n",
        "for i in cartel:\n",
        "    nome_cartel=[\"/cani/\",\"/gatti/\"]\n",
        "    for j in nome_cartel:\n",
        "        nuova_cartel = i+j\n",
        "        makedirs(nuova_cartel, exist_ok=True)\n",
        "\n",
        "# Percentuale di immagini per validare il training\n",
        "valutazione = 0.2\n",
        "\n",
        "# Copia delle immagini nelle sottocartelle\n",
        "src_dir = \"dataset/\"\n",
        "source = \"dataset/train/\"\n",
        "for immagine in listdir(source):\n",
        "    src=src_dir+\"train/\"+immagine\n",
        "    destinazione=\"working/train/\"\n",
        "    if random()< valutazione:\n",
        "        destinazione=\"working/test/\"\n",
        "    if immagine.startswith(\"cat\"):\n",
        "        dest = destinazione + \"gatti/\" + immagine\n",
        "        copyfile(src, dest)\n",
        "    elif immagine.startswith(\"dog\"):\n",
        "        dest = destinazione + \"cani/\" + immagine\n",
        "        copyfile(src, dest)\n",
        "\n",
        "\n",
        "path1 = \"working/train/gatti\"\n",
        "path2= \"working/train/cani\"\n",
        "path3= \"working/test/gatti\"\n",
        "path4= \"working/test/cani\"\n",
        "\n",
        "print('Ci sono ' ,len(os.listdir(path1)),' immagini di gatti in training')\n",
        "print('Ci sono ' ,len(os.listdir(path2)),' immagini di cani in training')\n",
        "print('Ci sono ' ,len(os.listdir(path3)),' immagini di gatti in test')\n",
        "print('Ci sono ' ,len(os.listdir(path4)),' immagini di cani in test')"
      ]
    },
    {
      "cell_type": "code",
      "execution_count": null,
      "metadata": {
        "colab": {
          "base_uri": "https://localhost:8080/"
        },
        "id": "JpMpiDjdGXAC",
        "outputId": "61b618a6-51ea-471d-a0a1-67b88953e556"
      },
      "outputs": [],
      "source": [
        "# Settiamo i parametri\n",
        "grandezza_immagine = 256\n",
        "grandezza_batch = 32\n",
        "\n",
        "# Creiamo i generatori\n",
        "\n",
        "train_gen = keras.utils.image_dataset_from_directory(\n",
        "    directory= \"working/train\",\n",
        "    labels=\"inferred\",\n",
        "    label_mode=\"binary\",\n",
        "    batch_size=grandezza_batch,\n",
        "    image_size=(grandezza_immagine,grandezza_immagine)\n",
        ")\n",
        "\n",
        "test_gen = keras.utils.image_dataset_from_directory(\n",
        "    directory= \"working/test\",\n",
        "    labels=\"inferred\",\n",
        "    label_mode=\"binary\",\n",
        "    batch_size=grandezza_batch,\n",
        "    image_size=(grandezza_immagine,grandezza_immagine)\n",
        ")"
      ]
    },
    {
      "cell_type": "code",
      "execution_count": null,
      "metadata": {
        "id": "nkTdTPxtGXAC"
      },
      "outputs": [],
      "source": [
        "# Creiamo il modello sequenziale\n",
        "modello = keras.Sequential()\n",
        "modello.add(layers.Conv2D(32, (3,3), input_shape=(grandezza_immagine,grandezza_immagine,3), activation=\"relu\"))\n",
        "modello.add(layers.BatchNormalization())\n",
        "modello.add(layers.MaxPooling2D((2,2)))\n",
        "modello.add(layers.Conv2D(64,(3,3),activation=\"relu\"))\n",
        "modello.add(layers.BatchNormalization())\n",
        "modello.add(layers.MaxPooling2D((2,2)))\n",
        "modello.add(layers.Conv2D(128,(3,3),activation=\"relu\"))\n",
        "modello.add(layers.BatchNormalization())\n",
        "modello.add(layers.MaxPooling2D((2,2)))\n",
        "\n",
        "modello.add(layers.Flatten())\n",
        "modello.add(layers.Dense(512, activation=\"relu\"))\n",
        "modello.add(layers.Dropout(0.2))\n",
        "modello.add(layers.Dense(1, activation=\"sigmoid\"))\n",
        "\n"
      ]
    },
    {
      "cell_type": "code",
      "execution_count": null,
      "metadata": {
        "id": "cer4TNzvQdfg"
      },
      "outputs": [],
      "source": [
        "from keras.callbacks import EarlyStopping,ReduceLROnPlateau\n",
        "learning_rate_reduction = ReduceLROnPlateau(monitor = 'val_accuracy',\n",
        "                                            patience=2,\n",
        "                                            factor=0.5,\n",
        "                                            min_lr = 0.00001,\n",
        "                                            verbose = 1)\n",
        "\n",
        "earlystop = EarlyStopping(monitor = 'val_loss',\n",
        "                          min_delta = 0,\n",
        "                          patience = 3,\n",
        "                          verbose = 1,\n",
        "                          restore_best_weights = True)"
      ]
    },
    {
      "cell_type": "code",
      "execution_count": null,
      "metadata": {
        "colab": {
          "base_uri": "https://localhost:8080/"
        },
        "id": "vaIns6QmTEwa",
        "outputId": "fa8b3577-b2df-480f-e1e6-99032413a228"
      },
      "outputs": [],
      "source": [
        "# Compiliamo il modello\n",
        "modello.compile(optimizer = \"adam\", loss=\"binary_crossentropy\", metrics=[\"accuracy\"])\n",
        "\n",
        "modello.summary()"
      ]
    },
    {
      "cell_type": "code",
      "execution_count": null,
      "metadata": {
        "colab": {
          "base_uri": "https://localhost:8080/",
          "height": 446
        },
        "id": "z5RuZIrsGXAC",
        "outputId": "94a2f3f7-ae01-40ad-9481-234fd5fdfce9"
      },
      "outputs": [],
      "source": [
        "# Addestriamo il modello\n",
        "history = modello.fit(train_gen,\n",
        "                      callbacks=[earlystop,learning_rate_reduction],\n",
        "                      epochs = 10,\n",
        "                      validation_data=test_gen)"
      ]
    },
    {
      "cell_type": "code",
      "execution_count": null,
      "metadata": {
        "colab": {
          "base_uri": "https://localhost:8080/",
          "height": 452
        },
        "id": "62kEKGQlIOr2",
        "outputId": "d4a4b39d-a557-4eb4-b383-fb26539b606c"
      },
      "outputs": [],
      "source": [
        "plt.plot(history.history[\"accuracy\"], color=\"red\", label=\"TRAIN\")\n",
        "plt.plot(history.history[\"val_accuracy\"], color=\"blue\", label=\"TEST\")\n",
        "plt.title(\"Accuracy\")\n",
        "plt.legend()\n",
        "plt.show()"
      ]
    },
    {
      "cell_type": "code",
      "execution_count": null,
      "metadata": {
        "colab": {
          "base_uri": "https://localhost:8080/",
          "height": 452
        },
        "id": "2Sd9eWTCNKj2",
        "outputId": "cd2b7603-6e1a-455b-eec7-fa2c6e8d24db"
      },
      "outputs": [],
      "source": [
        "plt.plot(history.history[\"loss\"], color=\"red\", label=\"TRAIN\")\n",
        "plt.plot(history.history[\"val_loss\"], color=\"blue\", label=\"TEST\")\n",
        "plt.title(\"Loss\")\n",
        "plt.legend()\n",
        "plt.show()"
      ]
    },
    {
      "cell_type": "code",
      "execution_count": null,
      "metadata": {
        "colab": {
          "base_uri": "https://localhost:8080/",
          "height": 453
        },
        "id": "UqIqErC2Q1VJ",
        "outputId": "d35ab3d1-b835-4179-a913-165b79a6b16c"
      },
      "outputs": [],
      "source": [
        "test_immagine = cv2.imread(\"dataset/test1/3.jpg\")\n",
        "plt.imshow(test_immagine)"
      ]
    },
    {
      "cell_type": "code",
      "execution_count": null,
      "metadata": {
        "colab": {
          "base_uri": "https://localhost:8080/"
        },
        "id": "r0YZnVf5R_xa",
        "outputId": "0583e459-0eb5-4c41-d45f-c3cc4a8a2e0c"
      },
      "outputs": [],
      "source": [
        "test_immagine.shape"
      ]
    },
    {
      "cell_type": "code",
      "execution_count": null,
      "metadata": {
        "id": "tGKS9fXPSJw2"
      },
      "outputs": [],
      "source": [
        "test_immagine = cv2.resize(test_immagine,(256,256))\n",
        "input = test_immagine.reshape((1,256,256,3))"
      ]
    },
    {
      "cell_type": "code",
      "execution_count": null,
      "metadata": {
        "colab": {
          "base_uri": "https://localhost:8080/"
        },
        "id": "MKIKiddbSJrh",
        "outputId": "36235050-3f0a-46ed-9c01-6a2e6f8b47b0"
      },
      "outputs": [],
      "source": [
        "predizione = modello.predict(input)\n",
        "if predizione > 0.5 :\n",
        "  print(\"Gatto\")\n",
        "elif predizione <0.5:\n",
        "  print(\"Cane\")"
      ]
    }
  ],
  "metadata": {
    "accelerator": "GPU",
    "colab": {
      "gpuType": "T4",
      "provenance": []
    },
    "kernelspec": {
      "display_name": "Python 3",
      "name": "python3"
    },
    "language_info": {
      "codemirror_mode": {
        "name": "ipython",
        "version": 3
      },
      "file_extension": ".py",
      "mimetype": "text/x-python",
      "name": "python",
      "nbconvert_exporter": "python",
      "pygments_lexer": "ipython3",
      "version": "3.11.3"
    },
    "orig_nbformat": 4
  },
  "nbformat": 4,
  "nbformat_minor": 0
}
